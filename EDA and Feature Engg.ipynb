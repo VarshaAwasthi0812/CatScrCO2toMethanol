{
 "cells": [
  {
   "cell_type": "code",
   "execution_count": 1,
   "id": "48ba5984",
   "metadata": {},
   "outputs": [],
   "source": [
    "import pandas as pd\n",
    "import numpy as np\n",
    "import seaborn as sns\n",
    "import matplotlib.pyplot as plt\n",
    "from sklearn.preprocessing import LabelEncoder,StandardScaler\n",
    "%matplotlib inline"
   ]
  },
  {
   "cell_type": "code",
   "execution_count": 2,
   "id": "eb566d78",
   "metadata": {},
   "outputs": [
    {
     "data": {
      "text/plain": [
       "'C:\\\\Users\\\\hp\\\\MTECH PROJECT'"
      ]
     },
     "execution_count": 2,
     "metadata": {},
     "output_type": "execute_result"
    }
   ],
   "source": [
    "import os\n",
    "os.getcwd()"
   ]
  },
  {
   "cell_type": "code",
   "execution_count": 3,
   "id": "d79539fc",
   "metadata": {},
   "outputs": [
    {
     "data": {
      "text/html": [
       "<div>\n",
       "<style scoped>\n",
       "    .dataframe tbody tr th:only-of-type {\n",
       "        vertical-align: middle;\n",
       "    }\n",
       "\n",
       "    .dataframe tbody tr th {\n",
       "        vertical-align: top;\n",
       "    }\n",
       "\n",
       "    .dataframe thead th {\n",
       "        text-align: right;\n",
       "    }\n",
       "</style>\n",
       "<table border=\"1\" class=\"dataframe\">\n",
       "  <thead>\n",
       "    <tr style=\"text-align: right;\">\n",
       "      <th></th>\n",
       "      <th>H2/CO2</th>\n",
       "      <th>H2/CO</th>\n",
       "      <th>Temp</th>\n",
       "      <th>Pres</th>\n",
       "      <th>PrepM</th>\n",
       "      <th>GHSV</th>\n",
       "      <th>W/F</th>\n",
       "      <th>Catalyst</th>\n",
       "      <th>BET SA</th>\n",
       "      <th>Pore Vol</th>\n",
       "      <th>...</th>\n",
       "      <th>Catalyst E3</th>\n",
       "      <th>Comp E3</th>\n",
       "      <th>Catalyst E4</th>\n",
       "      <th>Comp E4</th>\n",
       "      <th>CO2 Conv</th>\n",
       "      <th>CO Conv</th>\n",
       "      <th>Methanol STY</th>\n",
       "      <th>DME STY</th>\n",
       "      <th>Methanol Sel</th>\n",
       "      <th>DME Sel</th>\n",
       "    </tr>\n",
       "  </thead>\n",
       "  <tbody>\n",
       "    <tr>\n",
       "      <th>0</th>\n",
       "      <td>3.00</td>\n",
       "      <td>NaN</td>\n",
       "      <td>513</td>\n",
       "      <td>4.0</td>\n",
       "      <td>DPM</td>\n",
       "      <td>NaN</td>\n",
       "      <td>14.93</td>\n",
       "      <td>CuZnAl-3</td>\n",
       "      <td>90.0</td>\n",
       "      <td>0.19</td>\n",
       "      <td>...</td>\n",
       "      <td>NaN</td>\n",
       "      <td>NaN</td>\n",
       "      <td>Al2O3</td>\n",
       "      <td>0.6639</td>\n",
       "      <td>17.4</td>\n",
       "      <td>NaN</td>\n",
       "      <td>1.5625</td>\n",
       "      <td>NaN</td>\n",
       "      <td>54.2</td>\n",
       "      <td>NaN</td>\n",
       "    </tr>\n",
       "    <tr>\n",
       "      <th>1</th>\n",
       "      <td>3.03</td>\n",
       "      <td>NaN</td>\n",
       "      <td>513</td>\n",
       "      <td>4.0</td>\n",
       "      <td>SSIE</td>\n",
       "      <td>NaN</td>\n",
       "      <td>25.60</td>\n",
       "      <td>CuZnAl-400</td>\n",
       "      <td>NaN</td>\n",
       "      <td>NaN</td>\n",
       "      <td>...</td>\n",
       "      <td>NaN</td>\n",
       "      <td>NaN</td>\n",
       "      <td>Al2O3</td>\n",
       "      <td>0.0790</td>\n",
       "      <td>59.8</td>\n",
       "      <td>NaN</td>\n",
       "      <td>5.6700</td>\n",
       "      <td>NaN</td>\n",
       "      <td>73.9</td>\n",
       "      <td>NaN</td>\n",
       "    </tr>\n",
       "    <tr>\n",
       "      <th>2</th>\n",
       "      <td>3.03</td>\n",
       "      <td>NaN</td>\n",
       "      <td>533</td>\n",
       "      <td>3.0</td>\n",
       "      <td>SSIE</td>\n",
       "      <td>NaN</td>\n",
       "      <td>25.60</td>\n",
       "      <td>CuZnAl-400</td>\n",
       "      <td>NaN</td>\n",
       "      <td>NaN</td>\n",
       "      <td>...</td>\n",
       "      <td>NaN</td>\n",
       "      <td>NaN</td>\n",
       "      <td>Al2O3</td>\n",
       "      <td>0.0790</td>\n",
       "      <td>58.2</td>\n",
       "      <td>NaN</td>\n",
       "      <td>4.6242</td>\n",
       "      <td>NaN</td>\n",
       "      <td>62.5</td>\n",
       "      <td>NaN</td>\n",
       "    </tr>\n",
       "    <tr>\n",
       "      <th>3</th>\n",
       "      <td>3.03</td>\n",
       "      <td>NaN</td>\n",
       "      <td>513</td>\n",
       "      <td>3.0</td>\n",
       "      <td>SSIE</td>\n",
       "      <td>NaN</td>\n",
       "      <td>25.60</td>\n",
       "      <td>CuZnAl-400</td>\n",
       "      <td>NaN</td>\n",
       "      <td>NaN</td>\n",
       "      <td>...</td>\n",
       "      <td>NaN</td>\n",
       "      <td>NaN</td>\n",
       "      <td>Al2O3</td>\n",
       "      <td>0.0790</td>\n",
       "      <td>49.9</td>\n",
       "      <td>NaN</td>\n",
       "      <td>4.0900</td>\n",
       "      <td>NaN</td>\n",
       "      <td>64.5</td>\n",
       "      <td>NaN</td>\n",
       "    </tr>\n",
       "    <tr>\n",
       "      <th>4</th>\n",
       "      <td>3.03</td>\n",
       "      <td>NaN</td>\n",
       "      <td>513</td>\n",
       "      <td>2.0</td>\n",
       "      <td>SSIE</td>\n",
       "      <td>NaN</td>\n",
       "      <td>25.60</td>\n",
       "      <td>CuZnAl-400</td>\n",
       "      <td>NaN</td>\n",
       "      <td>NaN</td>\n",
       "      <td>...</td>\n",
       "      <td>NaN</td>\n",
       "      <td>NaN</td>\n",
       "      <td>Al2O3</td>\n",
       "      <td>0.0790</td>\n",
       "      <td>40.0</td>\n",
       "      <td>NaN</td>\n",
       "      <td>6.7662</td>\n",
       "      <td>NaN</td>\n",
       "      <td>54.1</td>\n",
       "      <td>NaN</td>\n",
       "    </tr>\n",
       "  </tbody>\n",
       "</table>\n",
       "<p>5 rows × 27 columns</p>\n",
       "</div>"
      ],
      "text/plain": [
       "   H2/CO2  H2/CO  Temp  Pres PrepM  GHSV    W/F    Catalyst  BET SA  Pore Vol  \\\n",
       "0    3.00    NaN   513   4.0   DPM   NaN  14.93    CuZnAl-3    90.0      0.19   \n",
       "1    3.03    NaN   513   4.0  SSIE   NaN  25.60  CuZnAl-400     NaN       NaN   \n",
       "2    3.03    NaN   533   3.0  SSIE   NaN  25.60  CuZnAl-400     NaN       NaN   \n",
       "3    3.03    NaN   513   3.0  SSIE   NaN  25.60  CuZnAl-400     NaN       NaN   \n",
       "4    3.03    NaN   513   2.0  SSIE   NaN  25.60  CuZnAl-400     NaN       NaN   \n",
       "\n",
       "   ...  Catalyst E3  Comp E3  Catalyst E4 Comp E4  CO2 Conv CO Conv  \\\n",
       "0  ...          NaN      NaN        Al2O3  0.6639      17.4     NaN   \n",
       "1  ...          NaN      NaN        Al2O3  0.0790      59.8     NaN   \n",
       "2  ...          NaN      NaN        Al2O3  0.0790      58.2     NaN   \n",
       "3  ...          NaN      NaN        Al2O3  0.0790      49.9     NaN   \n",
       "4  ...          NaN      NaN        Al2O3  0.0790      40.0     NaN   \n",
       "\n",
       "   Methanol STY DME STY  Methanol Sel DME Sel  \n",
       "0        1.5625     NaN          54.2     NaN  \n",
       "1        5.6700     NaN          73.9     NaN  \n",
       "2        4.6242     NaN          62.5     NaN  \n",
       "3        4.0900     NaN          64.5     NaN  \n",
       "4        6.7662     NaN          54.1     NaN  \n",
       "\n",
       "[5 rows x 27 columns]"
      ]
     },
     "execution_count": 3,
     "metadata": {},
     "output_type": "execute_result"
    }
   ],
   "source": [
    "Dataset=pd.read_excel('ModelDataset.xlsx')\n",
    "Dataset.head()"
   ]
  },
  {
   "cell_type": "markdown",
   "id": "1b1c8606",
   "metadata": {},
   "source": [
    "# DATA PREPROCESSING/FEATURE ENGG"
   ]
  },
  {
   "cell_type": "code",
   "execution_count": 4,
   "id": "cd132a30",
   "metadata": {},
   "outputs": [
    {
     "data": {
      "text/html": [
       "<div>\n",
       "<style scoped>\n",
       "    .dataframe tbody tr th:only-of-type {\n",
       "        vertical-align: middle;\n",
       "    }\n",
       "\n",
       "    .dataframe tbody tr th {\n",
       "        vertical-align: top;\n",
       "    }\n",
       "\n",
       "    .dataframe thead th {\n",
       "        text-align: right;\n",
       "    }\n",
       "</style>\n",
       "<table border=\"1\" class=\"dataframe\">\n",
       "  <thead>\n",
       "    <tr style=\"text-align: right;\">\n",
       "      <th></th>\n",
       "      <th>H2/CO2</th>\n",
       "      <th>Temp</th>\n",
       "      <th>Pres</th>\n",
       "      <th>PrepM</th>\n",
       "      <th>W/F</th>\n",
       "      <th>BET SA</th>\n",
       "      <th>Pore Vol</th>\n",
       "      <th>Pore Size</th>\n",
       "      <th>Crystal Size</th>\n",
       "      <th>Metal SA</th>\n",
       "      <th>Comp E1</th>\n",
       "      <th>Comp E2</th>\n",
       "      <th>Comp E3</th>\n",
       "      <th>Comp E4</th>\n",
       "      <th>CO2 Conv</th>\n",
       "      <th>Methanol STY</th>\n",
       "      <th>Methanol Sel</th>\n",
       "    </tr>\n",
       "  </thead>\n",
       "  <tbody>\n",
       "    <tr>\n",
       "      <th>0</th>\n",
       "      <td>3.00</td>\n",
       "      <td>513</td>\n",
       "      <td>4.0</td>\n",
       "      <td>DPM</td>\n",
       "      <td>14.93</td>\n",
       "      <td>90.0</td>\n",
       "      <td>0.19</td>\n",
       "      <td>5.67</td>\n",
       "      <td>13.3</td>\n",
       "      <td>31.6</td>\n",
       "      <td>0.2340</td>\n",
       "      <td>0.102</td>\n",
       "      <td>NaN</td>\n",
       "      <td>0.6639</td>\n",
       "      <td>17.4</td>\n",
       "      <td>1.5625</td>\n",
       "      <td>54.2</td>\n",
       "    </tr>\n",
       "    <tr>\n",
       "      <th>1</th>\n",
       "      <td>3.03</td>\n",
       "      <td>513</td>\n",
       "      <td>4.0</td>\n",
       "      <td>SSIE</td>\n",
       "      <td>25.60</td>\n",
       "      <td>NaN</td>\n",
       "      <td>NaN</td>\n",
       "      <td>NaN</td>\n",
       "      <td>NaN</td>\n",
       "      <td>NaN</td>\n",
       "      <td>0.6375</td>\n",
       "      <td>0.283</td>\n",
       "      <td>NaN</td>\n",
       "      <td>0.0790</td>\n",
       "      <td>59.8</td>\n",
       "      <td>5.6700</td>\n",
       "      <td>73.9</td>\n",
       "    </tr>\n",
       "    <tr>\n",
       "      <th>2</th>\n",
       "      <td>3.03</td>\n",
       "      <td>533</td>\n",
       "      <td>3.0</td>\n",
       "      <td>SSIE</td>\n",
       "      <td>25.60</td>\n",
       "      <td>NaN</td>\n",
       "      <td>NaN</td>\n",
       "      <td>NaN</td>\n",
       "      <td>NaN</td>\n",
       "      <td>NaN</td>\n",
       "      <td>0.6375</td>\n",
       "      <td>0.283</td>\n",
       "      <td>NaN</td>\n",
       "      <td>0.0790</td>\n",
       "      <td>58.2</td>\n",
       "      <td>4.6242</td>\n",
       "      <td>62.5</td>\n",
       "    </tr>\n",
       "    <tr>\n",
       "      <th>3</th>\n",
       "      <td>3.03</td>\n",
       "      <td>513</td>\n",
       "      <td>3.0</td>\n",
       "      <td>SSIE</td>\n",
       "      <td>25.60</td>\n",
       "      <td>NaN</td>\n",
       "      <td>NaN</td>\n",
       "      <td>NaN</td>\n",
       "      <td>NaN</td>\n",
       "      <td>NaN</td>\n",
       "      <td>0.6375</td>\n",
       "      <td>0.283</td>\n",
       "      <td>NaN</td>\n",
       "      <td>0.0790</td>\n",
       "      <td>49.9</td>\n",
       "      <td>4.0900</td>\n",
       "      <td>64.5</td>\n",
       "    </tr>\n",
       "    <tr>\n",
       "      <th>4</th>\n",
       "      <td>3.03</td>\n",
       "      <td>513</td>\n",
       "      <td>2.0</td>\n",
       "      <td>SSIE</td>\n",
       "      <td>25.60</td>\n",
       "      <td>NaN</td>\n",
       "      <td>NaN</td>\n",
       "      <td>NaN</td>\n",
       "      <td>NaN</td>\n",
       "      <td>NaN</td>\n",
       "      <td>0.6375</td>\n",
       "      <td>0.283</td>\n",
       "      <td>NaN</td>\n",
       "      <td>0.0790</td>\n",
       "      <td>40.0</td>\n",
       "      <td>6.7662</td>\n",
       "      <td>54.1</td>\n",
       "    </tr>\n",
       "  </tbody>\n",
       "</table>\n",
       "</div>"
      ],
      "text/plain": [
       "   H2/CO2  Temp  Pres PrepM    W/F  BET SA  Pore Vol  Pore Size  Crystal Size  \\\n",
       "0    3.00   513   4.0   DPM  14.93    90.0      0.19       5.67          13.3   \n",
       "1    3.03   513   4.0  SSIE  25.60     NaN       NaN        NaN           NaN   \n",
       "2    3.03   533   3.0  SSIE  25.60     NaN       NaN        NaN           NaN   \n",
       "3    3.03   513   3.0  SSIE  25.60     NaN       NaN        NaN           NaN   \n",
       "4    3.03   513   2.0  SSIE  25.60     NaN       NaN        NaN           NaN   \n",
       "\n",
       "   Metal SA  Comp E1  Comp E2  Comp E3  Comp E4  CO2 Conv  Methanol STY  \\\n",
       "0      31.6   0.2340    0.102      NaN   0.6639      17.4        1.5625   \n",
       "1       NaN   0.6375    0.283      NaN   0.0790      59.8        5.6700   \n",
       "2       NaN   0.6375    0.283      NaN   0.0790      58.2        4.6242   \n",
       "3       NaN   0.6375    0.283      NaN   0.0790      49.9        4.0900   \n",
       "4       NaN   0.6375    0.283      NaN   0.0790      40.0        6.7662   \n",
       "\n",
       "   Methanol Sel  \n",
       "0          54.2  \n",
       "1          73.9  \n",
       "2          62.5  \n",
       "3          64.5  \n",
       "4          54.1  "
      ]
     },
     "execution_count": 4,
     "metadata": {},
     "output_type": "execute_result"
    }
   ],
   "source": [
    "Dataset=Dataset.drop(columns=['H2/CO','GHSV','Catalyst','Catalyst E1','Catalyst E2','Catalyst E3','Catalyst E4','CO Conv','DME STY','DME Sel'],axis=1)\n",
    "Dataset.head()"
   ]
  },
  {
   "cell_type": "code",
   "execution_count": 5,
   "id": "94619986",
   "metadata": {},
   "outputs": [
    {
     "data": {
      "text/plain": [
       "H2/CO2            0\n",
       "Temp              0\n",
       "Pres              0\n",
       "PrepM             0\n",
       "W/F             100\n",
       "BET SA           72\n",
       "Pore Vol        154\n",
       "Pore Size       218\n",
       "Crystal Size    148\n",
       "Metal SA        155\n",
       "Comp E1           0\n",
       "Comp E2         126\n",
       "Comp E3         272\n",
       "Comp E4           6\n",
       "CO2 Conv         17\n",
       "Methanol STY     36\n",
       "Methanol Sel     17\n",
       "dtype: int64"
      ]
     },
     "execution_count": 5,
     "metadata": {},
     "output_type": "execute_result"
    }
   ],
   "source": [
    "Dataset.isnull().sum()"
   ]
  },
  {
   "cell_type": "markdown",
   "id": "859f1fac",
   "metadata": {},
   "source": [
    "# Handling Null Values"
   ]
  },
  {
   "cell_type": "code",
   "execution_count": 6,
   "id": "e7f0383b",
   "metadata": {},
   "outputs": [
    {
     "data": {
      "text/plain": [
       "H2/CO2            0\n",
       "Temp              0\n",
       "Pres              0\n",
       "PrepM             0\n",
       "W/F             100\n",
       "BET SA           72\n",
       "Pore Vol        154\n",
       "Pore Size       218\n",
       "Crystal Size    148\n",
       "Metal SA        155\n",
       "Comp E1           0\n",
       "Comp E2           0\n",
       "Comp E3           0\n",
       "Comp E4           0\n",
       "CO2 Conv         17\n",
       "Methanol STY     36\n",
       "Methanol Sel     17\n",
       "dtype: int64"
      ]
     },
     "execution_count": 6,
     "metadata": {},
     "output_type": "execute_result"
    }
   ],
   "source": [
    "Dataset['Comp E2']=Dataset['Comp E2'].fillna(0)\n",
    "Dataset['Comp E3']=Dataset['Comp E3'].fillna(0)\n",
    "Dataset['Comp E4']=Dataset['Comp E4'].fillna(0)\n",
    "\n",
    "Dataset.isnull().sum()"
   ]
  },
  {
   "cell_type": "code",
   "execution_count": 7,
   "id": "bf8bb13c",
   "metadata": {},
   "outputs": [
    {
     "data": {
      "text/html": [
       "<div>\n",
       "<style scoped>\n",
       "    .dataframe tbody tr th:only-of-type {\n",
       "        vertical-align: middle;\n",
       "    }\n",
       "\n",
       "    .dataframe tbody tr th {\n",
       "        vertical-align: top;\n",
       "    }\n",
       "\n",
       "    .dataframe thead th {\n",
       "        text-align: right;\n",
       "    }\n",
       "</style>\n",
       "<table border=\"1\" class=\"dataframe\">\n",
       "  <thead>\n",
       "    <tr style=\"text-align: right;\">\n",
       "      <th></th>\n",
       "      <th>H2/CO2</th>\n",
       "      <th>Temp</th>\n",
       "      <th>Pres</th>\n",
       "      <th>PrepM</th>\n",
       "      <th>W/F</th>\n",
       "      <th>BET SA</th>\n",
       "      <th>Pore Vol</th>\n",
       "      <th>Pore Size</th>\n",
       "      <th>Crystal Size</th>\n",
       "      <th>Metal SA</th>\n",
       "      <th>Comp E1</th>\n",
       "      <th>Comp E2</th>\n",
       "      <th>Comp E3</th>\n",
       "      <th>Comp E4</th>\n",
       "      <th>CO2 Conv</th>\n",
       "      <th>Methanol STY</th>\n",
       "      <th>Methanol Sel</th>\n",
       "    </tr>\n",
       "  </thead>\n",
       "  <tbody>\n",
       "    <tr>\n",
       "      <th>0</th>\n",
       "      <td>3.00</td>\n",
       "      <td>513</td>\n",
       "      <td>4.0</td>\n",
       "      <td>DPM</td>\n",
       "      <td>14.93</td>\n",
       "      <td>90.0</td>\n",
       "      <td>0.19</td>\n",
       "      <td>5.67</td>\n",
       "      <td>13.3</td>\n",
       "      <td>31.6</td>\n",
       "      <td>0.2340</td>\n",
       "      <td>0.1020</td>\n",
       "      <td>0.0</td>\n",
       "      <td>0.6639</td>\n",
       "      <td>17.4</td>\n",
       "      <td>1.5625</td>\n",
       "      <td>54.2</td>\n",
       "    </tr>\n",
       "    <tr>\n",
       "      <th>1</th>\n",
       "      <td>3.03</td>\n",
       "      <td>513</td>\n",
       "      <td>4.0</td>\n",
       "      <td>SSIE</td>\n",
       "      <td>25.60</td>\n",
       "      <td>NaN</td>\n",
       "      <td>NaN</td>\n",
       "      <td>NaN</td>\n",
       "      <td>NaN</td>\n",
       "      <td>NaN</td>\n",
       "      <td>0.6375</td>\n",
       "      <td>0.2830</td>\n",
       "      <td>0.0</td>\n",
       "      <td>0.0790</td>\n",
       "      <td>59.8</td>\n",
       "      <td>5.6700</td>\n",
       "      <td>73.9</td>\n",
       "    </tr>\n",
       "    <tr>\n",
       "      <th>2</th>\n",
       "      <td>3.03</td>\n",
       "      <td>533</td>\n",
       "      <td>3.0</td>\n",
       "      <td>SSIE</td>\n",
       "      <td>25.60</td>\n",
       "      <td>NaN</td>\n",
       "      <td>NaN</td>\n",
       "      <td>NaN</td>\n",
       "      <td>NaN</td>\n",
       "      <td>NaN</td>\n",
       "      <td>0.6375</td>\n",
       "      <td>0.2830</td>\n",
       "      <td>0.0</td>\n",
       "      <td>0.0790</td>\n",
       "      <td>58.2</td>\n",
       "      <td>4.6242</td>\n",
       "      <td>62.5</td>\n",
       "    </tr>\n",
       "    <tr>\n",
       "      <th>3</th>\n",
       "      <td>3.03</td>\n",
       "      <td>513</td>\n",
       "      <td>3.0</td>\n",
       "      <td>SSIE</td>\n",
       "      <td>25.60</td>\n",
       "      <td>NaN</td>\n",
       "      <td>NaN</td>\n",
       "      <td>NaN</td>\n",
       "      <td>NaN</td>\n",
       "      <td>NaN</td>\n",
       "      <td>0.6375</td>\n",
       "      <td>0.2830</td>\n",
       "      <td>0.0</td>\n",
       "      <td>0.0790</td>\n",
       "      <td>49.9</td>\n",
       "      <td>4.0900</td>\n",
       "      <td>64.5</td>\n",
       "    </tr>\n",
       "    <tr>\n",
       "      <th>4</th>\n",
       "      <td>3.03</td>\n",
       "      <td>513</td>\n",
       "      <td>2.0</td>\n",
       "      <td>SSIE</td>\n",
       "      <td>25.60</td>\n",
       "      <td>NaN</td>\n",
       "      <td>NaN</td>\n",
       "      <td>NaN</td>\n",
       "      <td>NaN</td>\n",
       "      <td>NaN</td>\n",
       "      <td>0.6375</td>\n",
       "      <td>0.2830</td>\n",
       "      <td>0.0</td>\n",
       "      <td>0.0790</td>\n",
       "      <td>40.0</td>\n",
       "      <td>6.7662</td>\n",
       "      <td>54.1</td>\n",
       "    </tr>\n",
       "    <tr>\n",
       "      <th>...</th>\n",
       "      <td>...</td>\n",
       "      <td>...</td>\n",
       "      <td>...</td>\n",
       "      <td>...</td>\n",
       "      <td>...</td>\n",
       "      <td>...</td>\n",
       "      <td>...</td>\n",
       "      <td>...</td>\n",
       "      <td>...</td>\n",
       "      <td>...</td>\n",
       "      <td>...</td>\n",
       "      <td>...</td>\n",
       "      <td>...</td>\n",
       "      <td>...</td>\n",
       "      <td>...</td>\n",
       "      <td>...</td>\n",
       "      <td>...</td>\n",
       "    </tr>\n",
       "    <tr>\n",
       "      <th>363</th>\n",
       "      <td>4.00</td>\n",
       "      <td>573</td>\n",
       "      <td>4.0</td>\n",
       "      <td>IWI</td>\n",
       "      <td>2.99</td>\n",
       "      <td>NaN</td>\n",
       "      <td>NaN</td>\n",
       "      <td>NaN</td>\n",
       "      <td>14.1</td>\n",
       "      <td>NaN</td>\n",
       "      <td>0.0900</td>\n",
       "      <td>0.0000</td>\n",
       "      <td>0.0</td>\n",
       "      <td>0.9100</td>\n",
       "      <td>NaN</td>\n",
       "      <td>NaN</td>\n",
       "      <td>24.0</td>\n",
       "    </tr>\n",
       "    <tr>\n",
       "      <th>364</th>\n",
       "      <td>4.00</td>\n",
       "      <td>573</td>\n",
       "      <td>4.0</td>\n",
       "      <td>IWI</td>\n",
       "      <td>2.99</td>\n",
       "      <td>NaN</td>\n",
       "      <td>NaN</td>\n",
       "      <td>NaN</td>\n",
       "      <td>14.8</td>\n",
       "      <td>NaN</td>\n",
       "      <td>0.0900</td>\n",
       "      <td>0.0415</td>\n",
       "      <td>0.0</td>\n",
       "      <td>0.8685</td>\n",
       "      <td>NaN</td>\n",
       "      <td>18.3600</td>\n",
       "      <td>61.0</td>\n",
       "    </tr>\n",
       "    <tr>\n",
       "      <th>365</th>\n",
       "      <td>4.00</td>\n",
       "      <td>573</td>\n",
       "      <td>4.0</td>\n",
       "      <td>IWI</td>\n",
       "      <td>2.99</td>\n",
       "      <td>NaN</td>\n",
       "      <td>NaN</td>\n",
       "      <td>NaN</td>\n",
       "      <td>9.8</td>\n",
       "      <td>NaN</td>\n",
       "      <td>0.0900</td>\n",
       "      <td>0.0830</td>\n",
       "      <td>0.0</td>\n",
       "      <td>0.8270</td>\n",
       "      <td>NaN</td>\n",
       "      <td>NaN</td>\n",
       "      <td>42.0</td>\n",
       "    </tr>\n",
       "    <tr>\n",
       "      <th>366</th>\n",
       "      <td>4.00</td>\n",
       "      <td>573</td>\n",
       "      <td>4.0</td>\n",
       "      <td>IWI</td>\n",
       "      <td>2.99</td>\n",
       "      <td>NaN</td>\n",
       "      <td>NaN</td>\n",
       "      <td>NaN</td>\n",
       "      <td>16.8</td>\n",
       "      <td>NaN</td>\n",
       "      <td>0.0900</td>\n",
       "      <td>0.1660</td>\n",
       "      <td>0.0</td>\n",
       "      <td>0.7440</td>\n",
       "      <td>NaN</td>\n",
       "      <td>NaN</td>\n",
       "      <td>23.0</td>\n",
       "    </tr>\n",
       "    <tr>\n",
       "      <th>367</th>\n",
       "      <td>4.00</td>\n",
       "      <td>573</td>\n",
       "      <td>4.0</td>\n",
       "      <td>IWI</td>\n",
       "      <td>2.99</td>\n",
       "      <td>NaN</td>\n",
       "      <td>NaN</td>\n",
       "      <td>NaN</td>\n",
       "      <td>14.3</td>\n",
       "      <td>NaN</td>\n",
       "      <td>0.0000</td>\n",
       "      <td>0.1000</td>\n",
       "      <td>0.0</td>\n",
       "      <td>0.9000</td>\n",
       "      <td>NaN</td>\n",
       "      <td>NaN</td>\n",
       "      <td>4.0</td>\n",
       "    </tr>\n",
       "  </tbody>\n",
       "</table>\n",
       "<p>368 rows × 17 columns</p>\n",
       "</div>"
      ],
      "text/plain": [
       "     H2/CO2  Temp  Pres PrepM    W/F  BET SA  Pore Vol  Pore Size  \\\n",
       "0      3.00   513   4.0   DPM  14.93    90.0      0.19       5.67   \n",
       "1      3.03   513   4.0  SSIE  25.60     NaN       NaN        NaN   \n",
       "2      3.03   533   3.0  SSIE  25.60     NaN       NaN        NaN   \n",
       "3      3.03   513   3.0  SSIE  25.60     NaN       NaN        NaN   \n",
       "4      3.03   513   2.0  SSIE  25.60     NaN       NaN        NaN   \n",
       "..      ...   ...   ...   ...    ...     ...       ...        ...   \n",
       "363    4.00   573   4.0   IWI   2.99     NaN       NaN        NaN   \n",
       "364    4.00   573   4.0   IWI   2.99     NaN       NaN        NaN   \n",
       "365    4.00   573   4.0   IWI   2.99     NaN       NaN        NaN   \n",
       "366    4.00   573   4.0   IWI   2.99     NaN       NaN        NaN   \n",
       "367    4.00   573   4.0   IWI   2.99     NaN       NaN        NaN   \n",
       "\n",
       "     Crystal Size  Metal SA  Comp E1  Comp E2  Comp E3  Comp E4  CO2 Conv  \\\n",
       "0            13.3      31.6   0.2340   0.1020      0.0   0.6639      17.4   \n",
       "1             NaN       NaN   0.6375   0.2830      0.0   0.0790      59.8   \n",
       "2             NaN       NaN   0.6375   0.2830      0.0   0.0790      58.2   \n",
       "3             NaN       NaN   0.6375   0.2830      0.0   0.0790      49.9   \n",
       "4             NaN       NaN   0.6375   0.2830      0.0   0.0790      40.0   \n",
       "..            ...       ...      ...      ...      ...      ...       ...   \n",
       "363          14.1       NaN   0.0900   0.0000      0.0   0.9100       NaN   \n",
       "364          14.8       NaN   0.0900   0.0415      0.0   0.8685       NaN   \n",
       "365           9.8       NaN   0.0900   0.0830      0.0   0.8270       NaN   \n",
       "366          16.8       NaN   0.0900   0.1660      0.0   0.7440       NaN   \n",
       "367          14.3       NaN   0.0000   0.1000      0.0   0.9000       NaN   \n",
       "\n",
       "     Methanol STY  Methanol Sel  \n",
       "0          1.5625          54.2  \n",
       "1          5.6700          73.9  \n",
       "2          4.6242          62.5  \n",
       "3          4.0900          64.5  \n",
       "4          6.7662          54.1  \n",
       "..            ...           ...  \n",
       "363           NaN          24.0  \n",
       "364       18.3600          61.0  \n",
       "365           NaN          42.0  \n",
       "366           NaN          23.0  \n",
       "367           NaN           4.0  \n",
       "\n",
       "[368 rows x 17 columns]"
      ]
     },
     "execution_count": 7,
     "metadata": {},
     "output_type": "execute_result"
    }
   ],
   "source": [
    "Dataset"
   ]
  },
  {
   "cell_type": "code",
   "execution_count": 8,
   "id": "93d5c251",
   "metadata": {},
   "outputs": [],
   "source": [
    "# DATA UNIFORMITY CHECK to fill mean,median,mode"
   ]
  },
  {
   "cell_type": "code",
   "execution_count": 9,
   "id": "b4875c6b",
   "metadata": {},
   "outputs": [
    {
     "name": "stderr",
     "output_type": "stream",
     "text": [
      "C:\\Users\\hp\\anaconda3\\lib\\site-packages\\seaborn\\distributions.py:2619: FutureWarning: `distplot` is a deprecated function and will be removed in a future version. Please adapt your code to use either `displot` (a figure-level function with similar flexibility) or `histplot` (an axes-level function for histograms).\n",
      "  warnings.warn(msg, FutureWarning)\n"
     ]
    },
    {
     "data": {
      "text/plain": [
       "Text(0.5, 1.0, 'W/F(g-cat h mol-1)) Distribution Plot')"
      ]
     },
     "execution_count": 9,
     "metadata": {},
     "output_type": "execute_result"
    },
    {
     "data": {
      "image/png": "[encoded data removed]",
      "text/plain": [
       "<Figure size 432x288 with 1 Axes>"
      ]
     },
     "metadata": {
      "needs_background": "light"
     },
     "output_type": "display_data"
    }
   ],
   "source": [
    "sns.distplot(Dataset['W/F'])\n",
    "plt.title('W/F(g-cat h mol-1)) Distribution Plot')"
   ]
  },
  {
   "cell_type": "code",
   "execution_count": 10,
   "id": "15893290",
   "metadata": {},
   "outputs": [
    {
     "name": "stderr",
     "output_type": "stream",
     "text": [
      "C:\\Users\\hp\\anaconda3\\lib\\site-packages\\seaborn\\distributions.py:2619: FutureWarning: `distplot` is a deprecated function and will be removed in a future version. Please adapt your code to use either `displot` (a figure-level function with similar flexibility) or `histplot` (an axes-level function for histograms).\n",
      "  warnings.warn(msg, FutureWarning)\n"
     ]
    },
    {
     "data": {
      "text/plain": [
       "Text(0.5, 1.0, 'BET Surface Area(m2/g) Distribution Plot')"
      ]
     },
     "execution_count": 10,
     "metadata": {},
     "output_type": "execute_result"
    },
    {
     "data": {
      "image/png": "[encoded data removed]",
      "text/plain": [
       "<Figure size 432x288 with 1 Axes>"
      ]
     },
     "metadata": {
      "needs_background": "light"
     },
     "output_type": "display_data"
    }
   ],
   "source": [
    "sns.distplot(Dataset['BET SA'])\n",
    "plt.title('BET Surface Area(m2/g) Distribution Plot')"
   ]
  },
  {
   "cell_type": "code",
   "execution_count": 11,
   "id": "449c3c8a",
   "metadata": {},
   "outputs": [
    {
     "name": "stderr",
     "output_type": "stream",
     "text": [
      "C:\\Users\\hp\\anaconda3\\lib\\site-packages\\seaborn\\distributions.py:2619: FutureWarning: `distplot` is a deprecated function and will be removed in a future version. Please adapt your code to use either `displot` (a figure-level function with similar flexibility) or `histplot` (an axes-level function for histograms).\n",
      "  warnings.warn(msg, FutureWarning)\n"
     ]
    },
    {
     "data": {
      "text/plain": [
       "Text(0.5, 1.0, 'Pore Volume(cm3/g) Distribution Plot')"
      ]
     },
     "execution_count": 11,
     "metadata": {},
     "output_type": "execute_result"
    },
    {
     "data": {
      "image/png": "[encoded data removed]",
      "text/plain": [
       "<Figure size 432x288 with 1 Axes>"
      ]
     },
     "metadata": {
      "needs_background": "light"
     },
     "output_type": "display_data"
    }
   ],
   "source": [
    "sns.distplot(Dataset['Pore Vol'])\n",
    "plt.title('Pore Volume(cm3/g) Distribution Plot')"
   ]
  },
  {
   "cell_type": "code",
   "execution_count": 12,
   "id": "48af1621",
   "metadata": {},
   "outputs": [
    {
     "name": "stderr",
     "output_type": "stream",
     "text": [
      "C:\\Users\\hp\\anaconda3\\lib\\site-packages\\seaborn\\distributions.py:2619: FutureWarning: `distplot` is a deprecated function and will be removed in a future version. Please adapt your code to use either `displot` (a figure-level function with similar flexibility) or `histplot` (an axes-level function for histograms).\n",
      "  warnings.warn(msg, FutureWarning)\n"
     ]
    },
    {
     "data": {
      "text/plain": [
       "Text(0.5, 1.0, 'Pore Size(nm) Distribution Plot')"
      ]
     },
     "execution_count": 12,
     "metadata": {},
     "output_type": "execute_result"
    },
    {
     "data": {
      "image/png": "[encoded data removed]",
      "text/plain": [
       "<Figure size 432x288 with 1 Axes>"
      ]
     },
     "metadata": {
      "needs_background": "light"
     },
     "output_type": "display_data"
    }
   ],
   "source": [
    "sns.distplot(Dataset['Pore Size'])\n",
    "plt.title('Pore Size(nm) Distribution Plot')"
   ]
  },
  {
   "cell_type": "code",
   "execution_count": 13,
   "id": "31c4652d",
   "metadata": {},
   "outputs": [
    {
     "name": "stderr",
     "output_type": "stream",
     "text": [
      "C:\\Users\\hp\\anaconda3\\lib\\site-packages\\seaborn\\distributions.py:2619: FutureWarning: `distplot` is a deprecated function and will be removed in a future version. Please adapt your code to use either `displot` (a figure-level function with similar flexibility) or `histplot` (an axes-level function for histograms).\n",
      "  warnings.warn(msg, FutureWarning)\n"
     ]
    },
    {
     "data": {
      "text/plain": [
       "Text(0.5, 1.0, 'Crystal Size(nm) Distribution Plot')"
      ]
     },
     "execution_count": 13,
     "metadata": {},
     "output_type": "execute_result"
    },
    {
     "data": {
      "image/png": "[encoded data removed]",
      "text/plain": [
       "<Figure size 432x288 with 1 Axes>"
      ]
     },
     "metadata": {
      "needs_background": "light"
     },
     "output_type": "display_data"
    }
   ],
   "source": [
    "sns.distplot(Dataset['Crystal Size'])\n",
    "plt.title('Crystal Size(nm) Distribution Plot')"
   ]
  },
  {
   "cell_type": "code",
   "execution_count": 14,
   "id": "72124bda",
   "metadata": {},
   "outputs": [
    {
     "name": "stderr",
     "output_type": "stream",
     "text": [
      "C:\\Users\\hp\\anaconda3\\lib\\site-packages\\seaborn\\distributions.py:2619: FutureWarning: `distplot` is a deprecated function and will be removed in a future version. Please adapt your code to use either `displot` (a figure-level function with similar flexibility) or `histplot` (an axes-level function for histograms).\n",
      "  warnings.warn(msg, FutureWarning)\n"
     ]
    },
    {
     "data": {
      "text/plain": [
       "Text(0.5, 1.0, 'Metal Surface Area(m2/g) Distribution Plot')"
      ]
     },
     "execution_count": 14,
     "metadata": {},
     "output_type": "execute_result"
    },
    {
     "data": {
      "image/png": "[encoded data removed]",
      "text/plain": [
       "<Figure size 432x288 with 1 Axes>"
      ]
     },
     "metadata": {
      "needs_background": "light"
     },
     "output_type": "display_data"
    }
   ],
   "source": [
    "sns.distplot(Dataset['Metal SA'])\n",
    "plt.title('Metal Surface Area(m2/g) Distribution Plot')"
   ]
  },
  {
   "cell_type": "code",
   "execution_count": 19,
   "id": "265969c5",
   "metadata": {},
   "outputs": [
    {
     "name": "stderr",
     "output_type": "stream",
     "text": [
      "C:\\Users\\hp\\anaconda3\\lib\\site-packages\\seaborn\\distributions.py:2619: FutureWarning: `distplot` is a deprecated function and will be removed in a future version. Please adapt your code to use either `displot` (a figure-level function with similar flexibility) or `histplot` (an axes-level function for histograms).\n",
      "  warnings.warn(msg, FutureWarning)\n"
     ]
    },
    {
     "data": {
      "text/plain": [
       "Text(0.5, 1.0, 'CO2 Conversion(%) Distribution Plot')"
      ]
     },
     "execution_count": 19,
     "metadata": {},
     "output_type": "execute_result"
    },
    {
     "data": {
      "image/png": "[encoded data removed]",
      "text/plain": [
       "<Figure size 432x288 with 1 Axes>"
      ]
     },
     "metadata": {
      "needs_background": "light"
     },
     "output_type": "display_data"
    }
   ],
   "source": [
    "sns.distplot(Dataset['CO2 Conv'])\n",
    "plt.title('CO2 Conversion(%) Distribution Plot')"
   ]
  },
  {
   "cell_type": "code",
   "execution_count": 20,
   "id": "e063de88",
   "metadata": {},
   "outputs": [
    {
     "name": "stderr",
     "output_type": "stream",
     "text": [
      "C:\\Users\\hp\\anaconda3\\lib\\site-packages\\seaborn\\distributions.py:2619: FutureWarning: `distplot` is a deprecated function and will be removed in a future version. Please adapt your code to use either `displot` (a figure-level function with similar flexibility) or `histplot` (an axes-level function for histograms).\n",
      "  warnings.warn(msg, FutureWarning)\n"
     ]
    },
    {
     "data": {
      "text/plain": [
       "Text(0.5, 1.0, 'Methanol STY(mol kg-cat−1 h−1) Distribution Plot')"
      ]
     },
     "execution_count": 20,
     "metadata": {},
     "output_type": "execute_result"
    },
    {
     "data": {
      "image/png": "[encoded data removed]",
      "text/plain": [
       "<Figure size 432x288 with 1 Axes>"
      ]
     },
     "metadata": {
      "needs_background": "light"
     },
     "output_type": "display_data"
    }
   ],
   "source": [
    "sns.distplot(Dataset['Methanol STY'])\n",
    "plt.title('Methanol STY(mol kg-cat−1 h−1) Distribution Plot')"
   ]
  },
  {
   "cell_type": "code",
   "execution_count": 21,
   "id": "994326a2",
   "metadata": {},
   "outputs": [
    {
     "name": "stderr",
     "output_type": "stream",
     "text": [
      "C:\\Users\\hp\\anaconda3\\lib\\site-packages\\seaborn\\distributions.py:2619: FutureWarning: `distplot` is a deprecated function and will be removed in a future version. Please adapt your code to use either `displot` (a figure-level function with similar flexibility) or `histplot` (an axes-level function for histograms).\n",
      "  warnings.warn(msg, FutureWarning)\n"
     ]
    },
    {
     "data": {
      "text/plain": [
       "Text(0.5, 1.0, 'Methanol Selectivity(C-mol %) Distribution Plot')"
      ]
     },
     "execution_count": 21,
     "metadata": {},
     "output_type": "execute_result"
    },
    {
     "data": {
      "image/png": "[encoded data removed]",
      "text/plain": [
       "<Figure size 432x288 with 1 Axes>"
      ]
     },
     "metadata": {
      "needs_background": "light"
     },
     "output_type": "display_data"
    }
   ],
   "source": [
    "sns.distplot(Dataset['Methanol Sel'])\n",
    "plt.title('Methanol Selectivity(C-mol %) Distribution Plot')"
   ]
  },
  {
   "cell_type": "code",
   "execution_count": 22,
   "id": "95137c2c",
   "metadata": {},
   "outputs": [
    {
     "data": {
      "text/plain": [
       "H2/CO2          0\n",
       "Temp            0\n",
       "Pres            0\n",
       "PrepM           0\n",
       "W/F             0\n",
       "BET SA          0\n",
       "Pore Vol        0\n",
       "Pore Size       0\n",
       "Crystal Size    0\n",
       "Metal SA        0\n",
       "Comp E1         0\n",
       "Comp E2         0\n",
       "Comp E3         0\n",
       "Comp E4         0\n",
       "CO2 Conv        0\n",
       "Methanol STY    0\n",
       "Methanol Sel    0\n",
       "dtype: int64"
      ]
     },
     "execution_count": 22,
     "metadata": {},
     "output_type": "execute_result"
    }
   ],
   "source": [
    "Dataset['W/F']=Dataset['W/F'].fillna(Dataset['W/F'].median())\n",
    "Dataset['BET SA']=Dataset['BET SA'].fillna(Dataset['BET SA'].median())\n",
    "Dataset['Pore Vol']=Dataset['Pore Vol'].fillna(Dataset['Pore Vol'].median())\n",
    "Dataset['Pore Size']=Dataset['Pore Size'].fillna(Dataset['Pore Size'].median())\n",
    "Dataset['Crystal Size']=Dataset['Crystal Size'].fillna(Dataset['Crystal Size'].median())\n",
    "Dataset['Metal SA']=Dataset['Metal SA'].fillna(Dataset['Metal SA'].median())\n",
    "Dataset['CO2 Conv']=Dataset['CO2 Conv'].fillna(Dataset['CO2 Conv'].median())\n",
    "Dataset['Methanol STY']=Dataset['Methanol STY'].fillna(Dataset['Methanol STY'].median())\n",
    "Dataset['Methanol Sel']=Dataset['Methanol Sel'].fillna(Dataset['Methanol Sel'].mean())\n",
    "\n",
    "Dataset.isnull().sum()\n"
   ]
  },
  {
   "cell_type": "code",
   "execution_count": 23,
   "id": "4bb1510f",
   "metadata": {},
   "outputs": [
    {
     "data": {
      "text/html": [
       "<div>\n",
       "<style scoped>\n",
       "    .dataframe tbody tr th:only-of-type {\n",
       "        vertical-align: middle;\n",
       "    }\n",
       "\n",
       "    .dataframe tbody tr th {\n",
       "        vertical-align: top;\n",
       "    }\n",
       "\n",
       "    .dataframe thead th {\n",
       "        text-align: right;\n",
       "    }\n",
       "</style>\n",
       "<table border=\"1\" class=\"dataframe\">\n",
       "  <thead>\n",
       "    <tr style=\"text-align: right;\">\n",
       "      <th></th>\n",
       "      <th>H2/CO2</th>\n",
       "      <th>Temp</th>\n",
       "      <th>Pres</th>\n",
       "      <th>PrepM</th>\n",
       "      <th>W/F</th>\n",
       "      <th>BET SA</th>\n",
       "      <th>Pore Vol</th>\n",
       "      <th>Pore Size</th>\n",
       "      <th>Crystal Size</th>\n",
       "      <th>Metal SA</th>\n",
       "      <th>Comp E1</th>\n",
       "      <th>Comp E2</th>\n",
       "      <th>Comp E3</th>\n",
       "      <th>Comp E4</th>\n",
       "      <th>CO2 Conv</th>\n",
       "      <th>Methanol STY</th>\n",
       "      <th>Methanol Sel</th>\n",
       "    </tr>\n",
       "  </thead>\n",
       "  <tbody>\n",
       "    <tr>\n",
       "      <th>0</th>\n",
       "      <td>3.00</td>\n",
       "      <td>513</td>\n",
       "      <td>4.0</td>\n",
       "      <td>DPM</td>\n",
       "      <td>14.93</td>\n",
       "      <td>90.0</td>\n",
       "      <td>0.19</td>\n",
       "      <td>5.670</td>\n",
       "      <td>13.3</td>\n",
       "      <td>31.6</td>\n",
       "      <td>0.2340</td>\n",
       "      <td>0.1020</td>\n",
       "      <td>0.0</td>\n",
       "      <td>0.6639</td>\n",
       "      <td>17.40</td>\n",
       "      <td>1.562500</td>\n",
       "      <td>54.2</td>\n",
       "    </tr>\n",
       "    <tr>\n",
       "      <th>1</th>\n",
       "      <td>3.03</td>\n",
       "      <td>513</td>\n",
       "      <td>4.0</td>\n",
       "      <td>SSIE</td>\n",
       "      <td>25.60</td>\n",
       "      <td>84.0</td>\n",
       "      <td>0.38</td>\n",
       "      <td>6.755</td>\n",
       "      <td>14.2</td>\n",
       "      <td>16.9</td>\n",
       "      <td>0.6375</td>\n",
       "      <td>0.2830</td>\n",
       "      <td>0.0</td>\n",
       "      <td>0.0790</td>\n",
       "      <td>59.80</td>\n",
       "      <td>5.670000</td>\n",
       "      <td>73.9</td>\n",
       "    </tr>\n",
       "    <tr>\n",
       "      <th>2</th>\n",
       "      <td>3.03</td>\n",
       "      <td>533</td>\n",
       "      <td>3.0</td>\n",
       "      <td>SSIE</td>\n",
       "      <td>25.60</td>\n",
       "      <td>84.0</td>\n",
       "      <td>0.38</td>\n",
       "      <td>6.755</td>\n",
       "      <td>14.2</td>\n",
       "      <td>16.9</td>\n",
       "      <td>0.6375</td>\n",
       "      <td>0.2830</td>\n",
       "      <td>0.0</td>\n",
       "      <td>0.0790</td>\n",
       "      <td>58.20</td>\n",
       "      <td>4.624200</td>\n",
       "      <td>62.5</td>\n",
       "    </tr>\n",
       "    <tr>\n",
       "      <th>3</th>\n",
       "      <td>3.03</td>\n",
       "      <td>513</td>\n",
       "      <td>3.0</td>\n",
       "      <td>SSIE</td>\n",
       "      <td>25.60</td>\n",
       "      <td>84.0</td>\n",
       "      <td>0.38</td>\n",
       "      <td>6.755</td>\n",
       "      <td>14.2</td>\n",
       "      <td>16.9</td>\n",
       "      <td>0.6375</td>\n",
       "      <td>0.2830</td>\n",
       "      <td>0.0</td>\n",
       "      <td>0.0790</td>\n",
       "      <td>49.90</td>\n",
       "      <td>4.090000</td>\n",
       "      <td>64.5</td>\n",
       "    </tr>\n",
       "    <tr>\n",
       "      <th>4</th>\n",
       "      <td>3.03</td>\n",
       "      <td>513</td>\n",
       "      <td>2.0</td>\n",
       "      <td>SSIE</td>\n",
       "      <td>25.60</td>\n",
       "      <td>84.0</td>\n",
       "      <td>0.38</td>\n",
       "      <td>6.755</td>\n",
       "      <td>14.2</td>\n",
       "      <td>16.9</td>\n",
       "      <td>0.6375</td>\n",
       "      <td>0.2830</td>\n",
       "      <td>0.0</td>\n",
       "      <td>0.0790</td>\n",
       "      <td>40.00</td>\n",
       "      <td>6.766200</td>\n",
       "      <td>54.1</td>\n",
       "    </tr>\n",
       "    <tr>\n",
       "      <th>...</th>\n",
       "      <td>...</td>\n",
       "      <td>...</td>\n",
       "      <td>...</td>\n",
       "      <td>...</td>\n",
       "      <td>...</td>\n",
       "      <td>...</td>\n",
       "      <td>...</td>\n",
       "      <td>...</td>\n",
       "      <td>...</td>\n",
       "      <td>...</td>\n",
       "      <td>...</td>\n",
       "      <td>...</td>\n",
       "      <td>...</td>\n",
       "      <td>...</td>\n",
       "      <td>...</td>\n",
       "      <td>...</td>\n",
       "      <td>...</td>\n",
       "    </tr>\n",
       "    <tr>\n",
       "      <th>363</th>\n",
       "      <td>4.00</td>\n",
       "      <td>573</td>\n",
       "      <td>4.0</td>\n",
       "      <td>IWI</td>\n",
       "      <td>2.99</td>\n",
       "      <td>84.0</td>\n",
       "      <td>0.38</td>\n",
       "      <td>6.755</td>\n",
       "      <td>14.1</td>\n",
       "      <td>16.9</td>\n",
       "      <td>0.0900</td>\n",
       "      <td>0.0000</td>\n",
       "      <td>0.0</td>\n",
       "      <td>0.9100</td>\n",
       "      <td>9.77</td>\n",
       "      <td>3.008875</td>\n",
       "      <td>24.0</td>\n",
       "    </tr>\n",
       "    <tr>\n",
       "      <th>364</th>\n",
       "      <td>4.00</td>\n",
       "      <td>573</td>\n",
       "      <td>4.0</td>\n",
       "      <td>IWI</td>\n",
       "      <td>2.99</td>\n",
       "      <td>84.0</td>\n",
       "      <td>0.38</td>\n",
       "      <td>6.755</td>\n",
       "      <td>14.8</td>\n",
       "      <td>16.9</td>\n",
       "      <td>0.0900</td>\n",
       "      <td>0.0415</td>\n",
       "      <td>0.0</td>\n",
       "      <td>0.8685</td>\n",
       "      <td>9.77</td>\n",
       "      <td>18.360000</td>\n",
       "      <td>61.0</td>\n",
       "    </tr>\n",
       "    <tr>\n",
       "      <th>365</th>\n",
       "      <td>4.00</td>\n",
       "      <td>573</td>\n",
       "      <td>4.0</td>\n",
       "      <td>IWI</td>\n",
       "      <td>2.99</td>\n",
       "      <td>84.0</td>\n",
       "      <td>0.38</td>\n",
       "      <td>6.755</td>\n",
       "      <td>9.8</td>\n",
       "      <td>16.9</td>\n",
       "      <td>0.0900</td>\n",
       "      <td>0.0830</td>\n",
       "      <td>0.0</td>\n",
       "      <td>0.8270</td>\n",
       "      <td>9.77</td>\n",
       "      <td>3.008875</td>\n",
       "      <td>42.0</td>\n",
       "    </tr>\n",
       "    <tr>\n",
       "      <th>366</th>\n",
       "      <td>4.00</td>\n",
       "      <td>573</td>\n",
       "      <td>4.0</td>\n",
       "      <td>IWI</td>\n",
       "      <td>2.99</td>\n",
       "      <td>84.0</td>\n",
       "      <td>0.38</td>\n",
       "      <td>6.755</td>\n",
       "      <td>16.8</td>\n",
       "      <td>16.9</td>\n",
       "      <td>0.0900</td>\n",
       "      <td>0.1660</td>\n",
       "      <td>0.0</td>\n",
       "      <td>0.7440</td>\n",
       "      <td>9.77</td>\n",
       "      <td>3.008875</td>\n",
       "      <td>23.0</td>\n",
       "    </tr>\n",
       "    <tr>\n",
       "      <th>367</th>\n",
       "      <td>4.00</td>\n",
       "      <td>573</td>\n",
       "      <td>4.0</td>\n",
       "      <td>IWI</td>\n",
       "      <td>2.99</td>\n",
       "      <td>84.0</td>\n",
       "      <td>0.38</td>\n",
       "      <td>6.755</td>\n",
       "      <td>14.3</td>\n",
       "      <td>16.9</td>\n",
       "      <td>0.0000</td>\n",
       "      <td>0.1000</td>\n",
       "      <td>0.0</td>\n",
       "      <td>0.9000</td>\n",
       "      <td>9.77</td>\n",
       "      <td>3.008875</td>\n",
       "      <td>4.0</td>\n",
       "    </tr>\n",
       "  </tbody>\n",
       "</table>\n",
       "<p>368 rows × 17 columns</p>\n",
       "</div>"
      ],
      "text/plain": [
       "     H2/CO2  Temp  Pres PrepM    W/F  BET SA  Pore Vol  Pore Size  \\\n",
       "0      3.00   513   4.0   DPM  14.93    90.0      0.19      5.670   \n",
       "1      3.03   513   4.0  SSIE  25.60    84.0      0.38      6.755   \n",
       "2      3.03   533   3.0  SSIE  25.60    84.0      0.38      6.755   \n",
       "3      3.03   513   3.0  SSIE  25.60    84.0      0.38      6.755   \n",
       "4      3.03   513   2.0  SSIE  25.60    84.0      0.38      6.755   \n",
       "..      ...   ...   ...   ...    ...     ...       ...        ...   \n",
       "363    4.00   573   4.0   IWI   2.99    84.0      0.38      6.755   \n",
       "364    4.00   573   4.0   IWI   2.99    84.0      0.38      6.755   \n",
       "365    4.00   573   4.0   IWI   2.99    84.0      0.38      6.755   \n",
       "366    4.00   573   4.0   IWI   2.99    84.0      0.38      6.755   \n",
       "367    4.00   573   4.0   IWI   2.99    84.0      0.38      6.755   \n",
       "\n",
       "     Crystal Size  Metal SA  Comp E1  Comp E2  Comp E3  Comp E4  CO2 Conv  \\\n",
       "0            13.3      31.6   0.2340   0.1020      0.0   0.6639     17.40   \n",
       "1            14.2      16.9   0.6375   0.2830      0.0   0.0790     59.80   \n",
       "2            14.2      16.9   0.6375   0.2830      0.0   0.0790     58.20   \n",
       "3            14.2      16.9   0.6375   0.2830      0.0   0.0790     49.90   \n",
       "4            14.2      16.9   0.6375   0.2830      0.0   0.0790     40.00   \n",
       "..            ...       ...      ...      ...      ...      ...       ...   \n",
       "363          14.1      16.9   0.0900   0.0000      0.0   0.9100      9.77   \n",
       "364          14.8      16.9   0.0900   0.0415      0.0   0.8685      9.77   \n",
       "365           9.8      16.9   0.0900   0.0830      0.0   0.8270      9.77   \n",
       "366          16.8      16.9   0.0900   0.1660      0.0   0.7440      9.77   \n",
       "367          14.3      16.9   0.0000   0.1000      0.0   0.9000      9.77   \n",
       "\n",
       "     Methanol STY  Methanol Sel  \n",
       "0        1.562500          54.2  \n",
       "1        5.670000          73.9  \n",
       "2        4.624200          62.5  \n",
       "3        4.090000          64.5  \n",
       "4        6.766200          54.1  \n",
       "..            ...           ...  \n",
       "363      3.008875          24.0  \n",
       "364     18.360000          61.0  \n",
       "365      3.008875          42.0  \n",
       "366      3.008875          23.0  \n",
       "367      3.008875           4.0  \n",
       "\n",
       "[368 rows x 17 columns]"
      ]
     },
     "execution_count": 23,
     "metadata": {},
     "output_type": "execute_result"
    }
   ],
   "source": [
    "Dataset"
   ]
  },
  {
   "cell_type": "markdown",
   "id": "26fc0725",
   "metadata": {},
   "source": [
    "# Label Encoding for Preparation Method"
   ]
  },
  {
   "cell_type": "code",
   "execution_count": 24,
   "id": "c077f1f0",
   "metadata": {},
   "outputs": [],
   "source": [
    "label_encoder = LabelEncoder()\n",
    "Dataset['PrepM']=label_encoder.fit_transform(Dataset['PrepM'])"
   ]
  },
  {
   "cell_type": "markdown",
   "id": "14e76fa6",
   "metadata": {},
   "source": [
    "# PREPROCESSED DATASET"
   ]
  },
  {
   "cell_type": "code",
   "execution_count": 25,
   "id": "53de169a",
   "metadata": {},
   "outputs": [
    {
     "data": {
      "text/html": [
       "<div>\n",
       "<style scoped>\n",
       "    .dataframe tbody tr th:only-of-type {\n",
       "        vertical-align: middle;\n",
       "    }\n",
       "\n",
       "    .dataframe tbody tr th {\n",
       "        vertical-align: top;\n",
       "    }\n",
       "\n",
       "    .dataframe thead th {\n",
       "        text-align: right;\n",
       "    }\n",
       "</style>\n",
       "<table border=\"1\" class=\"dataframe\">\n",
       "  <thead>\n",
       "    <tr style=\"text-align: right;\">\n",
       "      <th></th>\n",
       "      <th>H2/CO2</th>\n",
       "      <th>Temp</th>\n",
       "      <th>Pres</th>\n",
       "      <th>PrepM</th>\n",
       "      <th>W/F</th>\n",
       "      <th>BET SA</th>\n",
       "      <th>Pore Vol</th>\n",
       "      <th>Pore Size</th>\n",
       "      <th>Crystal Size</th>\n",
       "      <th>Metal SA</th>\n",
       "      <th>Comp E1</th>\n",
       "      <th>Comp E2</th>\n",
       "      <th>Comp E3</th>\n",
       "      <th>Comp E4</th>\n",
       "      <th>CO2 Conv</th>\n",
       "      <th>Methanol STY</th>\n",
       "      <th>Methanol Sel</th>\n",
       "    </tr>\n",
       "  </thead>\n",
       "  <tbody>\n",
       "    <tr>\n",
       "      <th>0</th>\n",
       "      <td>3.00</td>\n",
       "      <td>513</td>\n",
       "      <td>4.0</td>\n",
       "      <td>7</td>\n",
       "      <td>14.93</td>\n",
       "      <td>90.0</td>\n",
       "      <td>0.19</td>\n",
       "      <td>5.670</td>\n",
       "      <td>13.3</td>\n",
       "      <td>31.6</td>\n",
       "      <td>0.2340</td>\n",
       "      <td>0.1020</td>\n",
       "      <td>0.0</td>\n",
       "      <td>0.6639</td>\n",
       "      <td>17.40</td>\n",
       "      <td>1.562500</td>\n",
       "      <td>54.2</td>\n",
       "    </tr>\n",
       "    <tr>\n",
       "      <th>1</th>\n",
       "      <td>3.03</td>\n",
       "      <td>513</td>\n",
       "      <td>4.0</td>\n",
       "      <td>15</td>\n",
       "      <td>25.60</td>\n",
       "      <td>84.0</td>\n",
       "      <td>0.38</td>\n",
       "      <td>6.755</td>\n",
       "      <td>14.2</td>\n",
       "      <td>16.9</td>\n",
       "      <td>0.6375</td>\n",
       "      <td>0.2830</td>\n",
       "      <td>0.0</td>\n",
       "      <td>0.0790</td>\n",
       "      <td>59.80</td>\n",
       "      <td>5.670000</td>\n",
       "      <td>73.9</td>\n",
       "    </tr>\n",
       "    <tr>\n",
       "      <th>2</th>\n",
       "      <td>3.03</td>\n",
       "      <td>533</td>\n",
       "      <td>3.0</td>\n",
       "      <td>15</td>\n",
       "      <td>25.60</td>\n",
       "      <td>84.0</td>\n",
       "      <td>0.38</td>\n",
       "      <td>6.755</td>\n",
       "      <td>14.2</td>\n",
       "      <td>16.9</td>\n",
       "      <td>0.6375</td>\n",
       "      <td>0.2830</td>\n",
       "      <td>0.0</td>\n",
       "      <td>0.0790</td>\n",
       "      <td>58.20</td>\n",
       "      <td>4.624200</td>\n",
       "      <td>62.5</td>\n",
       "    </tr>\n",
       "    <tr>\n",
       "      <th>3</th>\n",
       "      <td>3.03</td>\n",
       "      <td>513</td>\n",
       "      <td>3.0</td>\n",
       "      <td>15</td>\n",
       "      <td>25.60</td>\n",
       "      <td>84.0</td>\n",
       "      <td>0.38</td>\n",
       "      <td>6.755</td>\n",
       "      <td>14.2</td>\n",
       "      <td>16.9</td>\n",
       "      <td>0.6375</td>\n",
       "      <td>0.2830</td>\n",
       "      <td>0.0</td>\n",
       "      <td>0.0790</td>\n",
       "      <td>49.90</td>\n",
       "      <td>4.090000</td>\n",
       "      <td>64.5</td>\n",
       "    </tr>\n",
       "    <tr>\n",
       "      <th>4</th>\n",
       "      <td>3.03</td>\n",
       "      <td>513</td>\n",
       "      <td>2.0</td>\n",
       "      <td>15</td>\n",
       "      <td>25.60</td>\n",
       "      <td>84.0</td>\n",
       "      <td>0.38</td>\n",
       "      <td>6.755</td>\n",
       "      <td>14.2</td>\n",
       "      <td>16.9</td>\n",
       "      <td>0.6375</td>\n",
       "      <td>0.2830</td>\n",
       "      <td>0.0</td>\n",
       "      <td>0.0790</td>\n",
       "      <td>40.00</td>\n",
       "      <td>6.766200</td>\n",
       "      <td>54.1</td>\n",
       "    </tr>\n",
       "    <tr>\n",
       "      <th>...</th>\n",
       "      <td>...</td>\n",
       "      <td>...</td>\n",
       "      <td>...</td>\n",
       "      <td>...</td>\n",
       "      <td>...</td>\n",
       "      <td>...</td>\n",
       "      <td>...</td>\n",
       "      <td>...</td>\n",
       "      <td>...</td>\n",
       "      <td>...</td>\n",
       "      <td>...</td>\n",
       "      <td>...</td>\n",
       "      <td>...</td>\n",
       "      <td>...</td>\n",
       "      <td>...</td>\n",
       "      <td>...</td>\n",
       "      <td>...</td>\n",
       "    </tr>\n",
       "    <tr>\n",
       "      <th>363</th>\n",
       "      <td>4.00</td>\n",
       "      <td>573</td>\n",
       "      <td>4.0</td>\n",
       "      <td>9</td>\n",
       "      <td>2.99</td>\n",
       "      <td>84.0</td>\n",
       "      <td>0.38</td>\n",
       "      <td>6.755</td>\n",
       "      <td>14.1</td>\n",
       "      <td>16.9</td>\n",
       "      <td>0.0900</td>\n",
       "      <td>0.0000</td>\n",
       "      <td>0.0</td>\n",
       "      <td>0.9100</td>\n",
       "      <td>9.77</td>\n",
       "      <td>3.008875</td>\n",
       "      <td>24.0</td>\n",
       "    </tr>\n",
       "    <tr>\n",
       "      <th>364</th>\n",
       "      <td>4.00</td>\n",
       "      <td>573</td>\n",
       "      <td>4.0</td>\n",
       "      <td>9</td>\n",
       "      <td>2.99</td>\n",
       "      <td>84.0</td>\n",
       "      <td>0.38</td>\n",
       "      <td>6.755</td>\n",
       "      <td>14.8</td>\n",
       "      <td>16.9</td>\n",
       "      <td>0.0900</td>\n",
       "      <td>0.0415</td>\n",
       "      <td>0.0</td>\n",
       "      <td>0.8685</td>\n",
       "      <td>9.77</td>\n",
       "      <td>18.360000</td>\n",
       "      <td>61.0</td>\n",
       "    </tr>\n",
       "    <tr>\n",
       "      <th>365</th>\n",
       "      <td>4.00</td>\n",
       "      <td>573</td>\n",
       "      <td>4.0</td>\n",
       "      <td>9</td>\n",
       "      <td>2.99</td>\n",
       "      <td>84.0</td>\n",
       "      <td>0.38</td>\n",
       "      <td>6.755</td>\n",
       "      <td>9.8</td>\n",
       "      <td>16.9</td>\n",
       "      <td>0.0900</td>\n",
       "      <td>0.0830</td>\n",
       "      <td>0.0</td>\n",
       "      <td>0.8270</td>\n",
       "      <td>9.77</td>\n",
       "      <td>3.008875</td>\n",
       "      <td>42.0</td>\n",
       "    </tr>\n",
       "    <tr>\n",
       "      <th>366</th>\n",
       "      <td>4.00</td>\n",
       "      <td>573</td>\n",
       "      <td>4.0</td>\n",
       "      <td>9</td>\n",
       "      <td>2.99</td>\n",
       "      <td>84.0</td>\n",
       "      <td>0.38</td>\n",
       "      <td>6.755</td>\n",
       "      <td>16.8</td>\n",
       "      <td>16.9</td>\n",
       "      <td>0.0900</td>\n",
       "      <td>0.1660</td>\n",
       "      <td>0.0</td>\n",
       "      <td>0.7440</td>\n",
       "      <td>9.77</td>\n",
       "      <td>3.008875</td>\n",
       "      <td>23.0</td>\n",
       "    </tr>\n",
       "    <tr>\n",
       "      <th>367</th>\n",
       "      <td>4.00</td>\n",
       "      <td>573</td>\n",
       "      <td>4.0</td>\n",
       "      <td>9</td>\n",
       "      <td>2.99</td>\n",
       "      <td>84.0</td>\n",
       "      <td>0.38</td>\n",
       "      <td>6.755</td>\n",
       "      <td>14.3</td>\n",
       "      <td>16.9</td>\n",
       "      <td>0.0000</td>\n",
       "      <td>0.1000</td>\n",
       "      <td>0.0</td>\n",
       "      <td>0.9000</td>\n",
       "      <td>9.77</td>\n",
       "      <td>3.008875</td>\n",
       "      <td>4.0</td>\n",
       "    </tr>\n",
       "  </tbody>\n",
       "</table>\n",
       "<p>368 rows × 17 columns</p>\n",
       "</div>"
      ],
      "text/plain": [
       "     H2/CO2  Temp  Pres  PrepM    W/F  BET SA  Pore Vol  Pore Size  \\\n",
       "0      3.00   513   4.0      7  14.93    90.0      0.19      5.670   \n",
       "1      3.03   513   4.0     15  25.60    84.0      0.38      6.755   \n",
       "2      3.03   533   3.0     15  25.60    84.0      0.38      6.755   \n",
       "3      3.03   513   3.0     15  25.60    84.0      0.38      6.755   \n",
       "4      3.03   513   2.0     15  25.60    84.0      0.38      6.755   \n",
       "..      ...   ...   ...    ...    ...     ...       ...        ...   \n",
       "363    4.00   573   4.0      9   2.99    84.0      0.38      6.755   \n",
       "364    4.00   573   4.0      9   2.99    84.0      0.38      6.755   \n",
       "365    4.00   573   4.0      9   2.99    84.0      0.38      6.755   \n",
       "366    4.00   573   4.0      9   2.99    84.0      0.38      6.755   \n",
       "367    4.00   573   4.0      9   2.99    84.0      0.38      6.755   \n",
       "\n",
       "     Crystal Size  Metal SA  Comp E1  Comp E2  Comp E3  Comp E4  CO2 Conv  \\\n",
       "0            13.3      31.6   0.2340   0.1020      0.0   0.6639     17.40   \n",
       "1            14.2      16.9   0.6375   0.2830      0.0   0.0790     59.80   \n",
       "2            14.2      16.9   0.6375   0.2830      0.0   0.0790     58.20   \n",
       "3            14.2      16.9   0.6375   0.2830      0.0   0.0790     49.90   \n",
       "4            14.2      16.9   0.6375   0.2830      0.0   0.0790     40.00   \n",
       "..            ...       ...      ...      ...      ...      ...       ...   \n",
       "363          14.1      16.9   0.0900   0.0000      0.0   0.9100      9.77   \n",
       "364          14.8      16.9   0.0900   0.0415      0.0   0.8685      9.77   \n",
       "365           9.8      16.9   0.0900   0.0830      0.0   0.8270      9.77   \n",
       "366          16.8      16.9   0.0900   0.1660      0.0   0.7440      9.77   \n",
       "367          14.3      16.9   0.0000   0.1000      0.0   0.9000      9.77   \n",
       "\n",
       "     Methanol STY  Methanol Sel  \n",
       "0        1.562500          54.2  \n",
       "1        5.670000          73.9  \n",
       "2        4.624200          62.5  \n",
       "3        4.090000          64.5  \n",
       "4        6.766200          54.1  \n",
       "..            ...           ...  \n",
       "363      3.008875          24.0  \n",
       "364     18.360000          61.0  \n",
       "365      3.008875          42.0  \n",
       "366      3.008875          23.0  \n",
       "367      3.008875           4.0  \n",
       "\n",
       "[368 rows x 17 columns]"
      ]
     },
     "execution_count": 25,
     "metadata": {},
     "output_type": "execute_result"
    }
   ],
   "source": [
    "Dataset"
   ]
  },
  {
   "cell_type": "markdown",
   "id": "86458a15",
   "metadata": {},
   "source": [
    "# DATA ANALYSIS"
   ]
  },
  {
   "cell_type": "code",
   "execution_count": 26,
   "id": "cee28d1f",
   "metadata": {},
   "outputs": [
    {
     "name": "stderr",
     "output_type": "stream",
     "text": [
      "C:\\Users\\hp\\anaconda3\\lib\\site-packages\\seaborn\\distributions.py:2619: FutureWarning: `distplot` is a deprecated function and will be removed in a future version. Please adapt your code to use either `displot` (a figure-level function with similar flexibility) or `histplot` (an axes-level function for histograms).\n",
      "  warnings.warn(msg, FutureWarning)\n"
     ]
    },
    {
     "data": {
      "text/plain": [
       "Text(0.5, 1.0, 'Temperature(K) Distribution Plot')"
      ]
     },
     "execution_count": 26,
     "metadata": {},
     "output_type": "execute_result"
    },
    {
     "data": {
      "image/png": "[encoded data removed]",
      "text/plain": [
       "<Figure size 432x288 with 1 Axes>"
      ]
     },
     "metadata": {
      "needs_background": "light"
     },
     "output_type": "display_data"
    }
   ],
   "source": [
    "sns.distplot(Dataset['Temp'])\n",
    "plt.title('Temperature(K) Distribution Plot')"
   ]
  },
  {
   "cell_type": "code",
   "execution_count": 27,
   "id": "8809138d",
   "metadata": {},
   "outputs": [
    {
     "name": "stderr",
     "output_type": "stream",
     "text": [
      "C:\\Users\\hp\\anaconda3\\lib\\site-packages\\seaborn\\distributions.py:2619: FutureWarning: `distplot` is a deprecated function and will be removed in a future version. Please adapt your code to use either `displot` (a figure-level function with similar flexibility) or `histplot` (an axes-level function for histograms).\n",
      "  warnings.warn(msg, FutureWarning)\n"
     ]
    },
    {
     "data": {
      "text/plain": [
       "Text(0.5, 1.0, 'Pressure(MPa) Distribution Plot')"
      ]
     },
     "execution_count": 27,
     "metadata": {},
     "output_type": "execute_result"
    },
    {
     "data": {
      "image/png": "[encoded data removed]",
      "text/plain": [
       "<Figure size 432x288 with 1 Axes>"
      ]
     },
     "metadata": {
      "needs_background": "light"
     },
     "output_type": "display_data"
    }
   ],
   "source": [
    "sns.distplot(Dataset['Pres'])\n",
    "plt.title('Pressure(MPa) Distribution Plot')"
   ]
  },
  {
   "cell_type": "code",
   "execution_count": 28,
   "id": "e18135c2",
   "metadata": {},
   "outputs": [
    {
     "name": "stderr",
     "output_type": "stream",
     "text": [
      "C:\\Users\\hp\\anaconda3\\lib\\site-packages\\seaborn\\distributions.py:2619: FutureWarning: `distplot` is a deprecated function and will be removed in a future version. Please adapt your code to use either `displot` (a figure-level function with similar flexibility) or `histplot` (an axes-level function for histograms).\n",
      "  warnings.warn(msg, FutureWarning)\n"
     ]
    },
    {
     "data": {
      "text/plain": [
       "Text(0.5, 1.0, 'H2/CO2 Distribution Plot')"
      ]
     },
     "execution_count": 28,
     "metadata": {},
     "output_type": "execute_result"
    },
    {
     "data": {
      "image/png": "[encoded data removed]",
      "text/plain": [
       "<Figure size 432x288 with 1 Axes>"
      ]
     },
     "metadata": {
      "needs_background": "light"
     },
     "output_type": "display_data"
    }
   ],
   "source": [
    "sns.distplot(Dataset['H2/CO2'])\n",
    "plt.title('H2/CO2 Distribution Plot')"
   ]
  },
  {
   "cell_type": "code",
   "execution_count": 29,
   "id": "7d59d0fd",
   "metadata": {},
   "outputs": [
    {
     "data": {
      "text/plain": [
       "<AxesSubplot:xlabel='PrepM', ylabel='count'>"
      ]
     },
     "execution_count": 29,
     "metadata": {},
     "output_type": "execute_result"
    },
    {
     "data": {
      "image/png": "[encoded data removed]",
      "text/plain": [
       "<Figure size 2520x720 with 1 Axes>"
      ]
     },
     "metadata": {
      "needs_background": "light"
     },
     "output_type": "display_data"
    }
   ],
   "source": [
    "plt.figure(figsize=(35,10))\n",
    "sns.countplot(x='PrepM',data=Dataset)"
   ]
  },
  {
   "cell_type": "code",
   "execution_count": 32,
   "id": "91c442ad",
   "metadata": {},
   "outputs": [
    {
     "data": {
      "text/plain": [
       "Text(0, 0.5, 'Methanol STY')"
      ]
     },
     "execution_count": 32,
     "metadata": {},
     "output_type": "execute_result"
    },
    {
     "data": {
      "image/png": "[encoded data removed]",
      "text/plain": [
       "<Figure size 432x288 with 1 Axes>"
      ]
     },
     "metadata": {
      "needs_background": "light"
     },
     "output_type": "display_data"
    }
   ],
   "source": [
    "plt.scatter(Dataset['CO2 Conv'],Dataset['Methanol STY'])\n",
    "plt.xlabel('CO2 Conv')\n",
    "plt.ylabel('Methanol STY')"
   ]
  },
  {
   "cell_type": "code",
   "execution_count": 33,
   "id": "e3d0982c",
   "metadata": {},
   "outputs": [
    {
     "data": {
      "text/plain": [
       "Text(0, 0.5, 'Methanol Sel')"
      ]
     },
     "execution_count": 33,
     "metadata": {},
     "output_type": "execute_result"
    },
    {
     "data": {
      "image/png": "[encoded data removed]",
      "text/plain": [
       "<Figure size 432x288 with 1 Axes>"
      ]
     },
     "metadata": {
      "needs_background": "light"
     },
     "output_type": "display_data"
    }
   ],
   "source": [
    "plt.scatter(Dataset['CO2 Conv'],Dataset['Methanol Sel'])\n",
    "plt.xlabel('CO2 Conv')\n",
    "plt.ylabel('Methanol Sel')"
   ]
  },
  {
   "cell_type": "markdown",
   "id": "2cc67dce",
   "metadata": {},
   "source": [
    "# CATALYST PROPERTY DATASET"
   ]
  },
  {
   "cell_type": "code",
   "execution_count": 30,
   "id": "100d5986",
   "metadata": {},
   "outputs": [
    {
     "data": {
      "text/html": [
       "<div>\n",
       "<style scoped>\n",
       "    .dataframe tbody tr th:only-of-type {\n",
       "        vertical-align: middle;\n",
       "    }\n",
       "\n",
       "    .dataframe tbody tr th {\n",
       "        vertical-align: top;\n",
       "    }\n",
       "\n",
       "    .dataframe thead th {\n",
       "        text-align: right;\n",
       "    }\n",
       "</style>\n",
       "<table border=\"1\" class=\"dataframe\">\n",
       "  <thead>\n",
       "    <tr style=\"text-align: right;\">\n",
       "      <th></th>\n",
       "      <th>Unnamed: 0</th>\n",
       "      <th>0</th>\n",
       "      <th>1</th>\n",
       "      <th>2</th>\n",
       "      <th>3</th>\n",
       "      <th>0.1</th>\n",
       "      <th>1.1</th>\n",
       "      <th>2.1</th>\n",
       "      <th>3.1</th>\n",
       "      <th>0.2</th>\n",
       "      <th>1.2</th>\n",
       "      <th>2.2</th>\n",
       "      <th>3.2</th>\n",
       "      <th>0.3</th>\n",
       "      <th>1.3</th>\n",
       "      <th>2.3</th>\n",
       "      <th>3.3</th>\n",
       "    </tr>\n",
       "  </thead>\n",
       "  <tbody>\n",
       "    <tr>\n",
       "      <th>0</th>\n",
       "      <td>0</td>\n",
       "      <td>-2.163904</td>\n",
       "      <td>-0.235893</td>\n",
       "      <td>0.134307</td>\n",
       "      <td>-0.16925</td>\n",
       "      <td>5.468336</td>\n",
       "      <td>-0.017013</td>\n",
       "      <td>0.086466</td>\n",
       "      <td>0.044613</td>\n",
       "      <td>-2.166423</td>\n",
       "      <td>-0.133318</td>\n",
       "      <td>0.051257</td>\n",
       "      <td>0.028417</td>\n",
       "      <td>2.544792</td>\n",
       "      <td>2.618640</td>\n",
       "      <td>-1.141347</td>\n",
       "      <td>-0.941758</td>\n",
       "    </tr>\n",
       "    <tr>\n",
       "      <th>1</th>\n",
       "      <td>1</td>\n",
       "      <td>-2.163904</td>\n",
       "      <td>-0.235893</td>\n",
       "      <td>0.134307</td>\n",
       "      <td>-0.16925</td>\n",
       "      <td>5.468336</td>\n",
       "      <td>-0.017013</td>\n",
       "      <td>0.086466</td>\n",
       "      <td>0.044613</td>\n",
       "      <td>3.667065</td>\n",
       "      <td>5.308746</td>\n",
       "      <td>-1.578361</td>\n",
       "      <td>-0.037856</td>\n",
       "      <td>2.544792</td>\n",
       "      <td>2.618640</td>\n",
       "      <td>-1.141347</td>\n",
       "      <td>-0.941758</td>\n",
       "    </tr>\n",
       "    <tr>\n",
       "      <th>2</th>\n",
       "      <td>2</td>\n",
       "      <td>-2.163904</td>\n",
       "      <td>-0.235893</td>\n",
       "      <td>0.134307</td>\n",
       "      <td>-0.16925</td>\n",
       "      <td>5.468336</td>\n",
       "      <td>-0.017013</td>\n",
       "      <td>0.086466</td>\n",
       "      <td>0.044613</td>\n",
       "      <td>5.629532</td>\n",
       "      <td>0.159802</td>\n",
       "      <td>-2.370646</td>\n",
       "      <td>-0.844979</td>\n",
       "      <td>2.544792</td>\n",
       "      <td>2.618640</td>\n",
       "      <td>-1.141347</td>\n",
       "      <td>-0.941758</td>\n",
       "    </tr>\n",
       "    <tr>\n",
       "      <th>3</th>\n",
       "      <td>3</td>\n",
       "      <td>-2.163904</td>\n",
       "      <td>-0.235893</td>\n",
       "      <td>0.134307</td>\n",
       "      <td>-0.16925</td>\n",
       "      <td>-2.791727</td>\n",
       "      <td>-0.843302</td>\n",
       "      <td>-0.195338</td>\n",
       "      <td>-0.013917</td>\n",
       "      <td>-2.166423</td>\n",
       "      <td>-0.133318</td>\n",
       "      <td>0.051257</td>\n",
       "      <td>0.028417</td>\n",
       "      <td>-3.240133</td>\n",
       "      <td>-1.222075</td>\n",
       "      <td>0.007181</td>\n",
       "      <td>-0.272100</td>\n",
       "    </tr>\n",
       "    <tr>\n",
       "      <th>4</th>\n",
       "      <td>4</td>\n",
       "      <td>-2.163904</td>\n",
       "      <td>-0.235893</td>\n",
       "      <td>0.134307</td>\n",
       "      <td>-0.16925</td>\n",
       "      <td>-2.791727</td>\n",
       "      <td>-0.843302</td>\n",
       "      <td>-0.195338</td>\n",
       "      <td>-0.013917</td>\n",
       "      <td>4.780416</td>\n",
       "      <td>4.929572</td>\n",
       "      <td>-1.080709</td>\n",
       "      <td>0.027817</td>\n",
       "      <td>-3.240133</td>\n",
       "      <td>-1.222075</td>\n",
       "      <td>0.007181</td>\n",
       "      <td>-0.272100</td>\n",
       "    </tr>\n",
       "  </tbody>\n",
       "</table>\n",
       "</div>"
      ],
      "text/plain": [
       "   Unnamed: 0         0         1         2        3       0.1       1.1  \\\n",
       "0           0 -2.163904 -0.235893  0.134307 -0.16925  5.468336 -0.017013   \n",
       "1           1 -2.163904 -0.235893  0.134307 -0.16925  5.468336 -0.017013   \n",
       "2           2 -2.163904 -0.235893  0.134307 -0.16925  5.468336 -0.017013   \n",
       "3           3 -2.163904 -0.235893  0.134307 -0.16925 -2.791727 -0.843302   \n",
       "4           4 -2.163904 -0.235893  0.134307 -0.16925 -2.791727 -0.843302   \n",
       "\n",
       "        2.1       3.1       0.2       1.2       2.2       3.2       0.3  \\\n",
       "0  0.086466  0.044613 -2.166423 -0.133318  0.051257  0.028417  2.544792   \n",
       "1  0.086466  0.044613  3.667065  5.308746 -1.578361 -0.037856  2.544792   \n",
       "2  0.086466  0.044613  5.629532  0.159802 -2.370646 -0.844979  2.544792   \n",
       "3 -0.195338 -0.013917 -2.166423 -0.133318  0.051257  0.028417 -3.240133   \n",
       "4 -0.195338 -0.013917  4.780416  4.929572 -1.080709  0.027817 -3.240133   \n",
       "\n",
       "        1.3       2.3       3.3  \n",
       "0  2.618640 -1.141347 -0.941758  \n",
       "1  2.618640 -1.141347 -0.941758  \n",
       "2  2.618640 -1.141347 -0.941758  \n",
       "3 -1.222075  0.007181 -0.272100  \n",
       "4 -1.222075  0.007181 -0.272100  "
      ]
     },
     "execution_count": 30,
     "metadata": {},
     "output_type": "execute_result"
    }
   ],
   "source": [
    "Final_Property=pd.read_excel('Final_Properties_Dataset.xlsx')\n",
    "Final_Property.head()"
   ]
  },
  {
   "cell_type": "markdown",
   "id": "a738c537",
   "metadata": {},
   "source": [
    "# FINAL DATASET"
   ]
  },
  {
   "cell_type": "code",
   "execution_count": 31,
   "id": "9796176d",
   "metadata": {},
   "outputs": [
    {
     "data": {
      "text/html": [
       "<div>\n",
       "<style scoped>\n",
       "    .dataframe tbody tr th:only-of-type {\n",
       "        vertical-align: middle;\n",
       "    }\n",
       "\n",
       "    .dataframe tbody tr th {\n",
       "        vertical-align: top;\n",
       "    }\n",
       "\n",
       "    .dataframe thead th {\n",
       "        text-align: right;\n",
       "    }\n",
       "</style>\n",
       "<table border=\"1\" class=\"dataframe\">\n",
       "  <thead>\n",
       "    <tr style=\"text-align: right;\">\n",
       "      <th></th>\n",
       "      <th>H2/CO2</th>\n",
       "      <th>Temp</th>\n",
       "      <th>Pres</th>\n",
       "      <th>PrepM</th>\n",
       "      <th>W/F</th>\n",
       "      <th>BET SA</th>\n",
       "      <th>Pore Vol</th>\n",
       "      <th>Pore Size</th>\n",
       "      <th>Crystal Size</th>\n",
       "      <th>Metal SA</th>\n",
       "      <th>...</th>\n",
       "      <th>2.1</th>\n",
       "      <th>3.1</th>\n",
       "      <th>0.2</th>\n",
       "      <th>1.2</th>\n",
       "      <th>2.2</th>\n",
       "      <th>3.2</th>\n",
       "      <th>0.3</th>\n",
       "      <th>1.3</th>\n",
       "      <th>2.3</th>\n",
       "      <th>3.3</th>\n",
       "    </tr>\n",
       "  </thead>\n",
       "  <tbody>\n",
       "    <tr>\n",
       "      <th>0</th>\n",
       "      <td>3.00</td>\n",
       "      <td>513</td>\n",
       "      <td>4.0</td>\n",
       "      <td>7</td>\n",
       "      <td>14.93</td>\n",
       "      <td>90.0</td>\n",
       "      <td>0.19</td>\n",
       "      <td>5.670</td>\n",
       "      <td>13.3</td>\n",
       "      <td>31.6</td>\n",
       "      <td>...</td>\n",
       "      <td>0.086466</td>\n",
       "      <td>0.044613</td>\n",
       "      <td>-2.166423</td>\n",
       "      <td>-0.133318</td>\n",
       "      <td>0.051257</td>\n",
       "      <td>0.028417</td>\n",
       "      <td>2.544792</td>\n",
       "      <td>2.618640</td>\n",
       "      <td>-1.141347</td>\n",
       "      <td>-0.941758</td>\n",
       "    </tr>\n",
       "    <tr>\n",
       "      <th>1</th>\n",
       "      <td>3.03</td>\n",
       "      <td>513</td>\n",
       "      <td>4.0</td>\n",
       "      <td>15</td>\n",
       "      <td>25.60</td>\n",
       "      <td>84.0</td>\n",
       "      <td>0.38</td>\n",
       "      <td>6.755</td>\n",
       "      <td>14.2</td>\n",
       "      <td>16.9</td>\n",
       "      <td>...</td>\n",
       "      <td>0.086466</td>\n",
       "      <td>0.044613</td>\n",
       "      <td>3.667065</td>\n",
       "      <td>5.308746</td>\n",
       "      <td>-1.578361</td>\n",
       "      <td>-0.037856</td>\n",
       "      <td>2.544792</td>\n",
       "      <td>2.618640</td>\n",
       "      <td>-1.141347</td>\n",
       "      <td>-0.941758</td>\n",
       "    </tr>\n",
       "    <tr>\n",
       "      <th>2</th>\n",
       "      <td>3.03</td>\n",
       "      <td>533</td>\n",
       "      <td>3.0</td>\n",
       "      <td>15</td>\n",
       "      <td>25.60</td>\n",
       "      <td>84.0</td>\n",
       "      <td>0.38</td>\n",
       "      <td>6.755</td>\n",
       "      <td>14.2</td>\n",
       "      <td>16.9</td>\n",
       "      <td>...</td>\n",
       "      <td>0.086466</td>\n",
       "      <td>0.044613</td>\n",
       "      <td>5.629532</td>\n",
       "      <td>0.159802</td>\n",
       "      <td>-2.370646</td>\n",
       "      <td>-0.844979</td>\n",
       "      <td>2.544792</td>\n",
       "      <td>2.618640</td>\n",
       "      <td>-1.141347</td>\n",
       "      <td>-0.941758</td>\n",
       "    </tr>\n",
       "    <tr>\n",
       "      <th>3</th>\n",
       "      <td>3.03</td>\n",
       "      <td>513</td>\n",
       "      <td>3.0</td>\n",
       "      <td>15</td>\n",
       "      <td>25.60</td>\n",
       "      <td>84.0</td>\n",
       "      <td>0.38</td>\n",
       "      <td>6.755</td>\n",
       "      <td>14.2</td>\n",
       "      <td>16.9</td>\n",
       "      <td>...</td>\n",
       "      <td>-0.195338</td>\n",
       "      <td>-0.013917</td>\n",
       "      <td>-2.166423</td>\n",
       "      <td>-0.133318</td>\n",
       "      <td>0.051257</td>\n",
       "      <td>0.028417</td>\n",
       "      <td>-3.240133</td>\n",
       "      <td>-1.222075</td>\n",
       "      <td>0.007181</td>\n",
       "      <td>-0.272100</td>\n",
       "    </tr>\n",
       "    <tr>\n",
       "      <th>4</th>\n",
       "      <td>3.03</td>\n",
       "      <td>513</td>\n",
       "      <td>2.0</td>\n",
       "      <td>15</td>\n",
       "      <td>25.60</td>\n",
       "      <td>84.0</td>\n",
       "      <td>0.38</td>\n",
       "      <td>6.755</td>\n",
       "      <td>14.2</td>\n",
       "      <td>16.9</td>\n",
       "      <td>...</td>\n",
       "      <td>-0.195338</td>\n",
       "      <td>-0.013917</td>\n",
       "      <td>4.780416</td>\n",
       "      <td>4.929572</td>\n",
       "      <td>-1.080709</td>\n",
       "      <td>0.027817</td>\n",
       "      <td>-3.240133</td>\n",
       "      <td>-1.222075</td>\n",
       "      <td>0.007181</td>\n",
       "      <td>-0.272100</td>\n",
       "    </tr>\n",
       "  </tbody>\n",
       "</table>\n",
       "<p>5 rows × 34 columns</p>\n",
       "</div>"
      ],
      "text/plain": [
       "   H2/CO2  Temp  Pres  PrepM    W/F  BET SA  Pore Vol  Pore Size  \\\n",
       "0    3.00   513   4.0      7  14.93    90.0      0.19      5.670   \n",
       "1    3.03   513   4.0     15  25.60    84.0      0.38      6.755   \n",
       "2    3.03   533   3.0     15  25.60    84.0      0.38      6.755   \n",
       "3    3.03   513   3.0     15  25.60    84.0      0.38      6.755   \n",
       "4    3.03   513   2.0     15  25.60    84.0      0.38      6.755   \n",
       "\n",
       "   Crystal Size  Metal SA  ...       2.1       3.1       0.2       1.2  \\\n",
       "0          13.3      31.6  ...  0.086466  0.044613 -2.166423 -0.133318   \n",
       "1          14.2      16.9  ...  0.086466  0.044613  3.667065  5.308746   \n",
       "2          14.2      16.9  ...  0.086466  0.044613  5.629532  0.159802   \n",
       "3          14.2      16.9  ... -0.195338 -0.013917 -2.166423 -0.133318   \n",
       "4          14.2      16.9  ... -0.195338 -0.013917  4.780416  4.929572   \n",
       "\n",
       "        2.2       3.2       0.3       1.3       2.3       3.3  \n",
       "0  0.051257  0.028417  2.544792  2.618640 -1.141347 -0.941758  \n",
       "1 -1.578361 -0.037856  2.544792  2.618640 -1.141347 -0.941758  \n",
       "2 -2.370646 -0.844979  2.544792  2.618640 -1.141347 -0.941758  \n",
       "3  0.051257  0.028417 -3.240133 -1.222075  0.007181 -0.272100  \n",
       "4 -1.080709  0.027817 -3.240133 -1.222075  0.007181 -0.272100  \n",
       "\n",
       "[5 rows x 34 columns]"
      ]
     },
     "execution_count": 31,
     "metadata": {},
     "output_type": "execute_result"
    }
   ],
   "source": [
    "Data=pd.concat([Dataset,Final_Property],axis=1)\n",
    "Data.head()"
   ]
  },
  {
   "cell_type": "code",
   "execution_count": null,
   "id": "16c7a1de",
   "metadata": {},
   "outputs": [],
   "source": []
  },
  {
   "cell_type": "code",
   "execution_count": null,
   "id": "1e0177c3",
   "metadata": {},
   "outputs": [],
   "source": []
  },
  {
   "cell_type": "code",
   "execution_count": null,
   "id": "4d353faa",
   "metadata": {},
   "outputs": [],
   "source": []
  },
  {
   "cell_type": "code",
   "execution_count": null,
   "id": "ccac32f6",
   "metadata": {},
   "outputs": [],
   "source": []
  },
  {
   "cell_type": "code",
   "execution_count": null,
   "id": "87322fac",
   "metadata": {},
   "outputs": [],
   "source": []
  }
 ],
 "metadata": {
  "kernelspec": {
   "display_name": "Python 3 (ipykernel)",
   "language": "python",
   "name": "python3"
  },
  "language_info": {
   "codemirror_mode": {
    "name": "ipython",
    "version": 3
   },
   "file_extension": ".py",
   "mimetype": "text/x-python",
   "name": "python",
   "nbconvert_exporter": "python",
   "pygments_lexer": "ipython3",
   "version": "3.9.12"
  }
 },
 "nbformat": 4,
 "nbformat_minor": 5
}
